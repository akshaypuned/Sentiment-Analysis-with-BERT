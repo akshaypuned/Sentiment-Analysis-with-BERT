{
 "cells": [
  {
   "cell_type": "markdown",
   "metadata": {},
   "source": [
    "# 1. Install dependencies"
   ]
  },
  {
   "cell_type": "code",
   "execution_count": 1,
   "metadata": {},
   "outputs": [
    {
     "name": "stdout",
     "output_type": "stream",
     "text": [
      "Looking in links: https://download.pytorch.org/whl/torch_stable.html\n",
      "Collecting torch==1.8.1+cpu\n",
      "  Downloading https://download.pytorch.org/whl/cpu/torch-1.8.1%2Bcpu-cp38-cp38-win_amd64.whl (190.5 MB)\n",
      "Collecting torchvision==0.9.1+cpu\n",
      "  Downloading https://download.pytorch.org/whl/cpu/torchvision-0.9.1%2Bcpu-cp38-cp38-win_amd64.whl (845 kB)\n",
      "Collecting torchaudio===0.8.1\n",
      "  Downloading torchaudio-0.8.1-cp38-none-win_amd64.whl (109 kB)\n",
      "Requirement already satisfied: numpy in c:\\users\\akshay\\anaconda3\\lib\\site-packages (from torch==1.8.1+cpu) (1.19.5)\n",
      "Requirement already satisfied: typing-extensions in c:\\users\\akshay\\anaconda3\\lib\\site-packages (from torch==1.8.1+cpu) (3.7.4.2)\n",
      "Requirement already satisfied: pillow>=4.1.1 in c:\\users\\akshay\\anaconda3\\lib\\site-packages (from torchvision==0.9.1+cpu) (7.2.0)\n",
      "Installing collected packages: torch, torchvision, torchaudio\n",
      "Successfully installed torch-1.8.1+cpu torchaudio-0.8.1 torchvision-0.9.1+cpu\n"
     ]
    }
   ],
   "source": [
    "!pip install torch==1.8.1+cpu torchvision==0.9.1+cpu torchaudio===0.8.1 -f https://download.pytorch.org/whl/torch_stable.html"
   ]
  },
  {
   "cell_type": "code",
   "execution_count": 2,
   "metadata": {},
   "outputs": [
    {
     "name": "stdout",
     "output_type": "stream",
     "text": [
      "Collecting transformers\n",
      "  Downloading transformers-4.6.1-py3-none-any.whl (2.2 MB)\n",
      "Requirement already satisfied: requests in c:\\users\\akshay\\anaconda3\\lib\\site-packages (2.24.0)\n",
      "Requirement already satisfied: beautifulsoup4 in c:\\users\\akshay\\anaconda3\\lib\\site-packages (4.9.1)\n",
      "Requirement already satisfied: pandas in c:\\users\\akshay\\anaconda3\\lib\\site-packages (1.0.5)\n",
      "Requirement already satisfied: numpy in c:\\users\\akshay\\anaconda3\\lib\\site-packages (1.19.5)\n",
      "Collecting sacremoses\n",
      "  Downloading sacremoses-0.0.45-py3-none-any.whl (895 kB)\n",
      "Collecting huggingface-hub==0.0.8\n",
      "  Downloading huggingface_hub-0.0.8-py3-none-any.whl (34 kB)\n",
      "Requirement already satisfied: regex!=2019.12.17 in c:\\users\\akshay\\anaconda3\\lib\\site-packages (from transformers) (2020.6.8)\n",
      "Requirement already satisfied: tqdm>=4.27 in c:\\users\\akshay\\anaconda3\\lib\\site-packages (from transformers) (4.47.0)\n",
      "Collecting tokenizers<0.11,>=0.10.1\n",
      "  Downloading tokenizers-0.10.3-cp38-cp38-win_amd64.whl (2.0 MB)\n",
      "Requirement already satisfied: filelock in c:\\users\\akshay\\anaconda3\\lib\\site-packages (from transformers) (3.0.12)\n",
      "Requirement already satisfied: packaging in c:\\users\\akshay\\anaconda3\\lib\\site-packages (from transformers) (20.4)\n",
      "Requirement already satisfied: idna<3,>=2.5 in c:\\users\\akshay\\anaconda3\\lib\\site-packages (from requests) (2.10)\n",
      "Requirement already satisfied: chardet<4,>=3.0.2 in c:\\users\\akshay\\anaconda3\\lib\\site-packages (from requests) (3.0.4)\n",
      "Requirement already satisfied: certifi>=2017.4.17 in c:\\users\\akshay\\anaconda3\\lib\\site-packages (from requests) (2020.6.20)\n",
      "Requirement already satisfied: urllib3!=1.25.0,!=1.25.1,<1.26,>=1.21.1 in c:\\users\\akshay\\anaconda3\\lib\\site-packages (from requests) (1.25.9)\n",
      "Requirement already satisfied: soupsieve>1.2 in c:\\users\\akshay\\anaconda3\\lib\\site-packages (from beautifulsoup4) (2.0.1)\n",
      "Requirement already satisfied: pytz>=2017.2 in c:\\users\\akshay\\anaconda3\\lib\\site-packages (from pandas) (2020.1)\n",
      "Requirement already satisfied: python-dateutil>=2.6.1 in c:\\users\\akshay\\anaconda3\\lib\\site-packages (from pandas) (2.8.1)\n",
      "Requirement already satisfied: click in c:\\users\\akshay\\anaconda3\\lib\\site-packages (from sacremoses->transformers) (7.1.2)\n",
      "Requirement already satisfied: joblib in c:\\users\\akshay\\anaconda3\\lib\\site-packages (from sacremoses->transformers) (0.16.0)\n",
      "Requirement already satisfied: six in c:\\users\\akshay\\anaconda3\\lib\\site-packages (from sacremoses->transformers) (1.15.0)\n",
      "Requirement already satisfied: pyparsing>=2.0.2 in c:\\users\\akshay\\anaconda3\\lib\\site-packages (from packaging->transformers) (2.4.7)\n",
      "Installing collected packages: sacremoses, huggingface-hub, tokenizers, transformers\n",
      "Successfully installed huggingface-hub-0.0.8 sacremoses-0.0.45 tokenizers-0.10.3 transformers-4.6.1\n"
     ]
    }
   ],
   "source": [
    "!pip install transformers requests beautifulsoup4 pandas numpy"
   ]
  },
  {
   "cell_type": "code",
   "execution_count": 2,
   "metadata": {},
   "outputs": [],
   "source": [
    "from transformers import AutoTokenizer, AutoModelForSequenceClassification\n",
    "import torch\n",
    "import requests\n",
    "from bs4 import BeautifulSoup\n",
    "import re"
   ]
  },
  {
   "cell_type": "markdown",
   "metadata": {},
   "source": [
    "# 2. Download the pre-trained model from 'Hugging Face'"
   ]
  },
  {
   "cell_type": "code",
   "execution_count": 3,
   "metadata": {},
   "outputs": [],
   "source": [
    "tokenizer = AutoTokenizer.from_pretrained('nlptown/bert-base-multilingual-uncased-sentiment')\n",
    "\n",
    "model = AutoModelForSequenceClassification.from_pretrained('nlptown/bert-base-multilingual-uncased-sentiment')"
   ]
  },
  {
   "cell_type": "markdown",
   "metadata": {},
   "source": [
    "# 3. Testing the sentiment"
   ]
  },
  {
   "cell_type": "code",
   "execution_count": 8,
   "metadata": {},
   "outputs": [],
   "source": [
    "tokens = tokenizer.encode('Good food, but the ambience could have been better', return_tensors='pt')"
   ]
  },
  {
   "cell_type": "code",
   "execution_count": 9,
   "metadata": {},
   "outputs": [],
   "source": [
    "result = model(tokens)"
   ]
  },
  {
   "cell_type": "code",
   "execution_count": 10,
   "metadata": {},
   "outputs": [
    {
     "data": {
      "text/plain": [
       "SequenceClassifierOutput(loss=None, logits=tensor([[-2.5120, -0.2941,  2.2432,  1.8703, -1.1405]],\n",
       "       grad_fn=<AddmmBackward>), hidden_states=None, attentions=None)"
      ]
     },
     "execution_count": 10,
     "metadata": {},
     "output_type": "execute_result"
    }
   ],
   "source": [
    "result"
   ]
  },
  {
   "cell_type": "code",
   "execution_count": 11,
   "metadata": {},
   "outputs": [
    {
     "data": {
      "text/plain": [
       "tensor([[-2.5120, -0.2941,  2.2432,  1.8703, -1.1405]],\n",
       "       grad_fn=<AddmmBackward>)"
      ]
     },
     "execution_count": 11,
     "metadata": {},
     "output_type": "execute_result"
    }
   ],
   "source": [
    "result.logits"
   ]
  },
  {
   "cell_type": "code",
   "execution_count": 12,
   "metadata": {},
   "outputs": [
    {
     "data": {
      "text/plain": [
       "3"
      ]
     },
     "execution_count": 12,
     "metadata": {},
     "output_type": "execute_result"
    }
   ],
   "source": [
    "int(torch.argmax(result.logits))+1"
   ]
  },
  {
   "cell_type": "markdown",
   "metadata": {},
   "source": [
    "# 4. Web scrapping the reviews"
   ]
  },
  {
   "cell_type": "code",
   "execution_count": 13,
   "metadata": {},
   "outputs": [],
   "source": [
    "r = requests.get('https://www.yelp.de/biz/freddy-schilling-köln')\n",
    "soup = BeautifulSoup(r.text, 'html.parser')\n",
    "regex = re.compile('.*comment.*')\n",
    "results = soup.find_all('p', {'class':regex})\n",
    "reviews = [result.text for result in results]"
   ]
  },
  {
   "cell_type": "code",
   "execution_count": 14,
   "metadata": {},
   "outputs": [
    {
     "data": {
      "text/plain": [
       "[<p class=\"comment__373c0__1M-px css-n6i4z7\"><span class=\"raw__373c0__3rcx7\" lang=\"de\">Haben vor etwa zwei Wochen bestellt und die Bestellung war pünktlich fertig, noch warm und alles schmeckte super!! Lob an das Personal und bestelle dort immer wieder gerne!</span></p>,\n",
       " <p class=\"comment__373c0__1M-px css-n6i4z7\"><span class=\"raw__373c0__3rcx7\" lang=\"de\">Für alle die Freddy Schilling in Köln noch nicht ausprobiert haben, tut es. Ich bin immer wieder begeistert wie gut alles schmeckt. Meine persönliche Empfehlung ist ganz klar der Brunos Brenner mit extra Speck und Käse und dazu ne große Pommes mit Kahuna Sauce und der Habanero Ketchup um für den großen brennenden Mundspaß (die ist wirklich sehr scharf!). In der Kyff geht es deutlich schneller als am Eigelsteintor und bei Freddy hat die Corona Maßnahme den Bestellprozess auf jedenfall Nachhaltig gut optimiert. Ich bestelle immer Online vor und hole es dann ab. Ich stand oft genug 30-40 Minuten vor dem Laden am Eigelstein wo es eigentlich \"20 Minuten\" dauern sollte. So finde ich es völlig in Ordnung und man bekommt sein Essen sehr schnell! Klare Empfehlung!</span></p>,\n",
       " <p class=\"comment__373c0__1M-px css-n6i4z7\"><span class=\"raw__373c0__3rcx7\" lang=\"de\">Das ist das Original. Beste Burger in Köln finde ich, nicht zu vergleichen mit denen anderen Konkurrenten.<br/>Auch meine Freundin die Vegetarierin ist, kam hier voll auf ihre Kosten.<br/>Plus Top Service und freundliches Personal</span></p>,\n",
       " <p class=\"comment__373c0__1M-px css-n6i4z7\"><span class=\"raw__373c0__3rcx7\" lang=\"de\">Preise sind angemessen, und Burger sehr lecker! Jedes mal wenn wir Burger essen wollen, landen wir hier... Definitiv einer meiner Favoriten.</span></p>,\n",
       " <p class=\"comment__373c0__1M-px css-n6i4z7\"><span class=\"raw__373c0__3rcx7\" lang=\"de\">Leckere Burger frisch zubereitet. Pommes waren frisch und lecker und das Fleisch qualitativ gut, saftig und lecker. Die Soßen war auch super. Bedienung nett, preislich ok.  Mittagstisch wird angeboten. Ein Punkt Abzug das es nicht wirklich viele Sitzgelegenheiten gibt.</span></p>,\n",
       " <p class=\"comment__373c0__1M-px css-n6i4z7\"><span class=\"raw__373c0__3rcx7\" lang=\"de\">Das ist nicht mein erster Besuch und sicher nicht mein Letzter.<br/><br/>Mein letzter war im November, genau, am 30.11.2015. Das war ein schneller Wildburger mit einer Freundin, kurz vor einem Tattoo Termin. Ich war damals schon beendruckt. Superfrisch, das Fleisch perfekt gegart und unglaublich schmackhaft.<br/><br/>Nun waren wir wieder einmal in der Nähe (am 13.03.) , naja, Breite Str, aber da gibt es nichts kulinarisch hochwertiges, und hatten Hunger...den nächsten Car to go Smart geschnappt und ins Kwartier Latäng. Freddy Schilling, wir kommen.<br/><br/>Voll war es, aber Platz ist komischerweise immer. Die Jungs und Mädels waren wieder einmal sehr freundlich, tattoowiert und bemützt. Passt also gut zum Image. <br/><br/>Dieses Mal gab es den Big Kahuna Burger...es war uns nach Urlaub unter Palmen.<br/><br/>Und wie immer wurden wir nicht enttäuscht. Exzellent zubereitet und perfekt gegart. Die Zutaten wunderbar aufeinander abgestimmt...ein perfekter fruchtiger Burger. Ich mag es etwas schärfer, habe ich aber vergessen zu bestellen.<br/><br/>Die Qualität der Zutaten ist sehr hoch; zufällig kenne ich eine Quelle ;-) Das Fleisch, 100% Neuland Rindfleisch fantastisch, alles Nachhaltig erzeugte Rohstoffe. Top!<br/><br/>Also Jungs und Mädels. Macht weiter so, ich freue mich aufs nächste Mal.<br/><br/>Und danke für das kostenlose Obst! ;-)</span></p>,\n",
       " <p class=\"comment__373c0__1M-px css-n6i4z7\"><span class=\"raw__373c0__3rcx7\" lang=\"de\">Ich find's geil! Endlich wieder in Köln aber wollte auch mal was anders, als die Fette Kuh ausprobieren. Gute Wahl, echt top, aber die Kuh ist noch 'nen Tick besser!<br/>Ich komme im Laden an und schaue mir das Menü an - ich stehe auf BBQ-Burger, also wird es dieser - mit Käse und Speck. Außerdem einmal haus- &amp; handgemachte Fritten. Dazu Frittensauce (Mayo) und eine süße Sauce aus Rohrzucker und Chillie und noch was, hab ich vergessen. Leider gibt es kein selbstgebrautes Bier oder so - schade!<br/>Der Laden ist cool, stylo eingerichtet, mit Sitzgelegenheiten drinnen (man stinkt nach Brät danach - looool) im Zwischengang an Stehtischen und draußen mit Heizstrahlern. Ich nehme drinnen Platz - draußen alles voll. <br/>Nach ca. 15 - 20 Minuten ist der Burger fertig. Sieht lecker aus. Der Burger ist mit Salatblättern, Tomaten, roten Zwiebeln, Jalapeños und smokey BBQ-Sauce belegt. Ich nehme den ersten Happen und der Burger ist top. Das Fleisch (ich habe Medium-Well bestellt) ist trotzdem saftig und unheimlich lecker. Der Burger schmeckt absolut rund. Die Fritten sind Cross und lecker, auch dir Portio ist ok. Ich habe 11,90 gezahlt, Käse, Saucen und Speck haben extra gekostet. Also das mit den Saucen ist echt panne. Scheint aber Mode zu sein - in der Fetten Kuh gibt's übrigens 2 so dazu! <br/>Der Service ist sehr freundlich und auch zum Scherzen aufgelegt. Ich kann es also nur empfehlen, hier mal einzukehren und seinen Milchzahn in diesen Burger zu schlagen! ;)))</span></p>,\n",
       " <p class=\"comment__373c0__1M-px css-n6i4z7\"><span class=\"raw__373c0__3rcx7\" lang=\"de\">Habe von mehreren Personen positives sowie negatives gehört. Daher musste ich mich selbst von \"Freddy Schilling\" überzeugen.<br/><br/>Auf meine Bestellung: \"Ein Cheeseburger bitte\" entgegnete der mehr als unfreundliche Herr mit: \"Guck dich mal um... bist du hier bei MC Donalds oder was?! Wir haben keine Cheeseburger\"<br/><br/>Ich muss zugeben, dass ich kurz davor war, den Laden zu verlassen, bestellte dann aber doch einen Freddys Favourite mit Käse. <br/>Nach ca. 5 Minuten bekam ich dann den lecker aussehenden Burger. Geschmacklich habe ich nichts besonderes gegenüber den gefühlt 1000 neuen Burgerläden in Köln herausschmecken können. Eher so lala. Sehr negativ aufgefallen ist mir allerdings, dass der Burger nur so vor Wasser triefte. Wirklich unangenehm zu essen. Das könnte davon kommen, dass die Pattys gefroren auf den Grill gelegt werden. <br/><br/>Fazit: Kein Besuch wert!</span></p>,\n",
       " <p class=\"comment__373c0__1M-px css-n6i4z7\"><span class=\"raw__373c0__3rcx7\" lang=\"de\">Wow, da hat mich die YelpApp zu einem wirklich guten Burgerbrater geleitet. Leider wussten wohl auch viele Anwohner, wie lecker die Burger bei Freddy Schilling schmecken und so standen zich Leute an und wollten bestellen. Kurz um, 1 Baconburger mit Käse, Pommes/ Majo - fertig....okeee, nach 30 min. fertig! ;)<br/>Ja, man wartet und wartet aber die Nachfrage ist wohl ziemlich hoch an einem Samstag um ca. 19:00 Uhr - verständlicherweise.<br/>Gebraten wird das Hackfleisch auf offener Flamme, was zum Ergebnis hat, dass der Laden im inneren wirklich sehr verraucht ist. O-Ton meines Begleiters:\"Die Typen hinter der Theke werden keine 40 Jahre alt wenn die das noch ein paar Jahre machen\".<br/><br/>Also Leute, es gibt in Köln inzwischen zich Burgermanufakturen und einige habe ich inzwischen auch selbst getestet - Freddy Schilling kann sich aber mit allen messen!</span></p>,\n",
       " <p class=\"comment__373c0__1M-px css-n6i4z7\"><span class=\"raw__373c0__3rcx7\" lang=\"de\">Ich habe mir den Favorit bestellt mit Pommes (dazu Kahuna Soße).<br/>Das Pommes war richtig lecker, knusprig, schmeckt nach Kartoffeln und nicht in Öl gebaden. So wie man Fritten mag.<br/>Der Burger war mir leider ein bisschen zu wässrig, was dann auch den \"Bun\" (Burgerbrot) unten durchnässt hat, welches leider auch schon nicht mehr warm war.<br/>Aber trotz allem war das Fleisch einfach saftig, lecker, hat nach Fleisch geschmeckt und meine Geschmacksnote getroffen ohne dass es unter/überwürzt war (ich liebe es mit etwas mehr salz und viel pfeffer!).</span></p>]"
      ]
     },
     "execution_count": 14,
     "metadata": {},
     "output_type": "execute_result"
    }
   ],
   "source": [
    "results"
   ]
  },
  {
   "cell_type": "markdown",
   "metadata": {},
   "source": [
    "# 5. Load Reviews into DataFrame and Score"
   ]
  },
  {
   "cell_type": "code",
   "execution_count": 16,
   "metadata": {},
   "outputs": [],
   "source": [
    "import numpy as np\n",
    "import pandas as pd"
   ]
  },
  {
   "cell_type": "code",
   "execution_count": 17,
   "metadata": {},
   "outputs": [],
   "source": [
    "df = pd.DataFrame(np.array(reviews), columns=['review'])"
   ]
  },
  {
   "cell_type": "code",
   "execution_count": 18,
   "metadata": {},
   "outputs": [
    {
     "data": {
      "text/plain": [
       "'Haben vor etwa zwei Wochen bestellt und die Bestellung war pünktlich fertig, noch warm und alles schmeckte super!! Lob an das Personal und bestelle dort immer wieder gerne!'"
      ]
     },
     "execution_count": 18,
     "metadata": {},
     "output_type": "execute_result"
    }
   ],
   "source": [
    "df['review'].iloc[0]"
   ]
  },
  {
   "cell_type": "code",
   "execution_count": 19,
   "metadata": {},
   "outputs": [],
   "source": [
    "def sentiment_score(review):\n",
    "    tokens = tokenizer.encode(review, return_tensors='pt')\n",
    "    result = model(tokens)\n",
    "    return int(torch.argmax(result.logits))+1"
   ]
  },
  {
   "cell_type": "code",
   "execution_count": 20,
   "metadata": {},
   "outputs": [
    {
     "data": {
      "text/plain": [
       "5"
      ]
     },
     "execution_count": 20,
     "metadata": {},
     "output_type": "execute_result"
    }
   ],
   "source": [
    "sentiment_score(df['review'].iloc[1])"
   ]
  },
  {
   "cell_type": "code",
   "execution_count": 21,
   "metadata": {},
   "outputs": [],
   "source": [
    "df['sentiment'] = df['review'].apply(lambda x: sentiment_score(x[:512]))"
   ]
  },
  {
   "cell_type": "code",
   "execution_count": 22,
   "metadata": {},
   "outputs": [
    {
     "data": {
      "text/html": [
       "<div>\n",
       "<style scoped>\n",
       "    .dataframe tbody tr th:only-of-type {\n",
       "        vertical-align: middle;\n",
       "    }\n",
       "\n",
       "    .dataframe tbody tr th {\n",
       "        vertical-align: top;\n",
       "    }\n",
       "\n",
       "    .dataframe thead th {\n",
       "        text-align: right;\n",
       "    }\n",
       "</style>\n",
       "<table border=\"1\" class=\"dataframe\">\n",
       "  <thead>\n",
       "    <tr style=\"text-align: right;\">\n",
       "      <th></th>\n",
       "      <th>review</th>\n",
       "      <th>sentiment</th>\n",
       "    </tr>\n",
       "  </thead>\n",
       "  <tbody>\n",
       "    <tr>\n",
       "      <th>0</th>\n",
       "      <td>Haben vor etwa zwei Wochen bestellt und die Be...</td>\n",
       "      <td>5</td>\n",
       "    </tr>\n",
       "    <tr>\n",
       "      <th>1</th>\n",
       "      <td>Für alle die Freddy Schilling in Köln noch nic...</td>\n",
       "      <td>5</td>\n",
       "    </tr>\n",
       "    <tr>\n",
       "      <th>2</th>\n",
       "      <td>Das ist das Original. Beste Burger in Köln fin...</td>\n",
       "      <td>5</td>\n",
       "    </tr>\n",
       "    <tr>\n",
       "      <th>3</th>\n",
       "      <td>Preise sind angemessen, und Burger sehr lecker...</td>\n",
       "      <td>5</td>\n",
       "    </tr>\n",
       "    <tr>\n",
       "      <th>4</th>\n",
       "      <td>Leckere Burger frisch zubereitet. Pommes waren...</td>\n",
       "      <td>4</td>\n",
       "    </tr>\n",
       "    <tr>\n",
       "      <th>5</th>\n",
       "      <td>Das ist nicht mein erster Besuch und sicher ni...</td>\n",
       "      <td>2</td>\n",
       "    </tr>\n",
       "    <tr>\n",
       "      <th>6</th>\n",
       "      <td>Ich find's geil! Endlich wieder in Köln aber w...</td>\n",
       "      <td>4</td>\n",
       "    </tr>\n",
       "    <tr>\n",
       "      <th>7</th>\n",
       "      <td>Habe von mehreren Personen positives sowie neg...</td>\n",
       "      <td>2</td>\n",
       "    </tr>\n",
       "    <tr>\n",
       "      <th>8</th>\n",
       "      <td>Wow, da hat mich die YelpApp zu einem wirklich...</td>\n",
       "      <td>4</td>\n",
       "    </tr>\n",
       "    <tr>\n",
       "      <th>9</th>\n",
       "      <td>Ich habe mir den Favorit bestellt mit Pommes (...</td>\n",
       "      <td>4</td>\n",
       "    </tr>\n",
       "  </tbody>\n",
       "</table>\n",
       "</div>"
      ],
      "text/plain": [
       "                                              review  sentiment\n",
       "0  Haben vor etwa zwei Wochen bestellt und die Be...          5\n",
       "1  Für alle die Freddy Schilling in Köln noch nic...          5\n",
       "2  Das ist das Original. Beste Burger in Köln fin...          5\n",
       "3  Preise sind angemessen, und Burger sehr lecker...          5\n",
       "4  Leckere Burger frisch zubereitet. Pommes waren...          4\n",
       "5  Das ist nicht mein erster Besuch und sicher ni...          2\n",
       "6  Ich find's geil! Endlich wieder in Köln aber w...          4\n",
       "7  Habe von mehreren Personen positives sowie neg...          2\n",
       "8  Wow, da hat mich die YelpApp zu einem wirklich...          4\n",
       "9  Ich habe mir den Favorit bestellt mit Pommes (...          4"
      ]
     },
     "execution_count": 22,
     "metadata": {},
     "output_type": "execute_result"
    }
   ],
   "source": [
    "df"
   ]
  },
  {
   "cell_type": "code",
   "execution_count": 24,
   "metadata": {},
   "outputs": [
    {
     "data": {
      "text/plain": [
       "'Das ist nicht mein erster Besuch und sicher nicht mein Letzter.Mein letzter war im November, genau, am 30.11.2015. Das war ein schneller Wildburger mit einer Freundin, kurz vor einem Tattoo Termin. Ich war damals schon beendruckt. Superfrisch, das Fleisch perfekt gegart und unglaublich schmackhaft.Nun waren wir wieder einmal in der Nähe (am 13.03.) , naja, Breite Str, aber da gibt es nichts kulinarisch hochwertiges, und hatten Hunger...den nächsten Car to go Smart geschnappt und ins Kwartier Latäng. Freddy Schilling, wir kommen.Voll war es, aber Platz ist komischerweise immer. Die Jungs und Mädels waren wieder einmal sehr freundlich, tattoowiert und bemützt. Passt also gut zum Image. Dieses Mal gab es den Big Kahuna Burger...es war uns nach Urlaub unter Palmen.Und wie immer wurden wir nicht enttäuscht. Exzellent zubereitet und perfekt gegart. Die Zutaten wunderbar aufeinander abgestimmt...ein perfekter fruchtiger Burger. Ich mag es etwas schärfer, habe ich aber vergessen zu bestellen.Die Qualität der Zutaten ist sehr hoch; zufällig kenne ich eine Quelle ;-) Das Fleisch, 100% Neuland Rindfleisch fantastisch, alles Nachhaltig erzeugte Rohstoffe. Top!Also Jungs und Mädels. Macht weiter so, ich freue mich aufs nächste Mal.Und danke für das kostenlose Obst! ;-)'"
      ]
     },
     "execution_count": 24,
     "metadata": {},
     "output_type": "execute_result"
    }
   ],
   "source": [
    "df['review'].iloc[5]"
   ]
  },
  {
   "cell_type": "code",
   "execution_count": null,
   "metadata": {},
   "outputs": [],
   "source": []
  }
 ],
 "metadata": {
  "kernelspec": {
   "display_name": "Python 3",
   "language": "python",
   "name": "python3"
  },
  "language_info": {
   "codemirror_mode": {
    "name": "ipython",
    "version": 3
   },
   "file_extension": ".py",
   "mimetype": "text/x-python",
   "name": "python",
   "nbconvert_exporter": "python",
   "pygments_lexer": "ipython3",
   "version": "3.8.3"
  }
 },
 "nbformat": 4,
 "nbformat_minor": 2
}
